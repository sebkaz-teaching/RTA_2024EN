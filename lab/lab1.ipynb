{
 "cells": [
  {
   "cell_type": "markdown",
   "metadata": {},
   "source": [
    "# Production Environment with ML Model\n",
    "\n",
    "Our task is to deploy a Python application implementing REST API tasks. \n",
    "Upon client request, the server will respond based on predictions generated from a certain model.\n",
    "\n",
    "This image will be containerized using a `Dockerfile`, making server deployment possible regardless of the platform.\n",
    "\n",
    "We will accomplish our task using the `Flask` library version 3.0.3.\n",
    "\n",
    "There are other libraries that can accomplish this task.\n",
    "\n",
    "> Check at home if you can use them yourself, or at least read the code.\n",
    "\n",
    "1. FastAPI\n",
    "2. Seldon\n",
    "3. MLFlow\n",
    "4. Node.js - Express\n",
    "\n",
    "## Minimal Flask Application Code\n",
    "\n",
    "We want to run our application locally and then easily transfer and execute it on any computer.\n",
    "Therefore, a natural solution is to save the code to a file with the `.py` extension.\n",
    "\n",
    "To automatically save the application code to the `app.py` file, we will use the magic command `%%file file.py`."
   ]
  },
  {
   "cell_type": "code",
   "execution_count": null,
   "metadata": {},
   "outputs": [],
   "source": [
    "%%file app.py\n",
    "from flask import Flask\n",
    "\n",
    "# Create a flask\n",
    "app = Flask(__name__)\n",
    "\n",
    "# Create an API end point\n",
    "@app.route('/')\n",
    "def say_hello():\n",
    "    return \"Hello World\"\n",
    "\n",
    "if __name__ == '__main__':\n",
    "    app.run()"
   ]
  },
  {
   "cell_type": "markdown",
   "metadata": {},
   "source": [
    "> Note! In the Flask documentation, the last two lines starting the server are not present in the sample code.\n",
    " Furthermore, the command to start the server is `flask run`, not `python app.py`.\n",
    "Let's explain what the sample code contains:\n",
    "\n",
    "1. `from flask import Flask`: Imports the Flask library.\n",
    "2. `app = Flask(__name__):` Creates the API server interface.\n",
    "3. Subpage code using a decorator: Here, a route of the application is defined. Using a decorator (e.g., @app.route('/')), you specify which URL address should trigger the associated function. \n",
    "Typically, the function returns the content that the client will receive when accessing this path.\n",
    "```python\n",
    "@app.route('/')\n",
    "def say_hello():\n",
    "    return \"Hello World\"\n",
    "```\n",
    "To demonstrate how the decorator works, let's define the following function:"
   ]
  },
  {
   "cell_type": "code",
   "execution_count": 3,
   "metadata": {},
   "outputs": [],
   "source": [
    "def make_pretty(func):\n",
    "    def inner():\n",
    "        print(\"decorator working\")\n",
    "        func()\n",
    "    return inner()"
   ]
  },
  {
   "cell_type": "code",
   "execution_count": 4,
   "metadata": {},
   "outputs": [
    {
     "name": "stdout",
     "output_type": "stream",
     "text": [
      "decorator working\n",
      "abc\n"
     ]
    }
   ],
   "source": [
    "def test():\n",
    "    print(\"abc\")\n",
    "\n",
    "make_pretty(test)"
   ]
  },
  {
   "cell_type": "code",
   "execution_count": 6,
   "metadata": {},
   "outputs": [
    {
     "name": "stdout",
     "output_type": "stream",
     "text": [
      "decorator working\n",
      "test2\n"
     ]
    }
   ],
   "source": [
    "@make_pretty\n",
    "def test2():\n",
    "    print(\"test2\")"
   ]
  },
  {
   "cell_type": "code",
   "execution_count": 7,
   "metadata": {},
   "outputs": [
    {
     "name": "stdout",
     "output_type": "stream",
     "text": [
      "decorator working\n",
      "anything else\n"
     ]
    }
   ],
   "source": [
    "@make_pretty\n",
    "def test3():\n",
    "    print(\"anything else\")"
   ]
  },
  {
   "cell_type": "markdown",
   "metadata": {},
   "source": [
    "## Python Environment\n",
    "\n",
    "In order for the application code in app.py to run, we need a Python interpreter installed on our computer.\n",
    "However, simply having an interpreter is not sufficient for our application.\n",
    "To fully run it, we need to create an environment (preferably virtual) where all the necessary libraries (e.g., Flask) are available.\n",
    "\n",
    "> Note: All terminal commands will be for Linux/Mac OS versions.\n",
    "```bash\n",
    "which python\n",
    "which python3\n",
    "which pip \n",
    "which pip3\n",
    "```\n",
    "All these commands should point to the folder with the default Python environment.\n",
    "\n",
    "Generate and run a virtual environment locally by entering the following command in the terminal:\n",
    "```bash\n",
    "python3 -m venv .venv\n",
    "source .venv/bin/activate\n",
    "```\n",
    "\n",
    "> Good practice: a Python environment is nothing more than a directory.\n",
    "> In our version, it's a hidden directory named `.venv`.\n",
    "> If you copy this directory elsewhere, it will cease to function as your Python environment.\n",
    "> Therefore, recreating it does not involve copying it.\n",
    "> If your project is associated with a version control system like GIT, make sure the environment directory is not added to the repository.\n",
    "> You can achieve this by adding the appropriate entry to the `.gitignore` file.\n",
    "\n",
    "Having created a new environment, check which libraries are present in it.\n",
    "\n",
    "```bash\n",
    "pip list \n",
    "\n",
    "Package    Version\n",
    "---------- -------\n",
    "pip        23.2.1\n",
    "pyspark    3.4.1\n",
    "setuptools 65.5.0\n",
    "```\n",
    "We can check the Python and pip commands again\n",
    "```bash\n",
    "which python\n",
    "which pip \n",
    "```\n",
    "By default, the libraries `pip` and `setuptools` should appear (pyspark comes from our internal image).\n",
    "\n",
    "Install the Flask library:\n",
    "\n",
    "```bash\n",
    "pip install flask\n",
    "pip list \n",
    "Package      Version\n",
    "------------ -------\n",
    "blinker      1.7.0\n",
    "click        8.1.7\n",
    "Flask        3.0.3\n",
    "itsdangerous 2.1.2\n",
    "Jinja2       3.1.3\n",
    "MarkupSafe   2.1.5\n",
    "pip          23.2.1\n",
    "pyspark      3.4.1\n",
    "setuptools   65.5.0\n",
    "Werkzeug     3.0.2\n",
    "```\n",
    "As you can see, installing the Flask library also forced the installation of other packages.\n",
    "\n",
    "The only way to transfer the Python environment is to install it on a new machine and manually install all the packages.\n",
    "However, to avoid installing each package individually, we can use a configuration file called `requirements.txt` with a list of packages.\n",
    "\n",
    "Remember - each package should include the version number. Otherwise, it may turn out that new package versions break compatibility with your code.\n",
    "To create the configuration file, use the following command in the terminal:\n",
    "```bash\n",
    "pip freeze >> requirements.txt\n",
    "```\n",
    "You can use the generated file on any machine to install and recreate the required Python runtime environment.\n",
    "\n",
    "> Side note: At the time of preparing the materials, Flask was in version 3.0.1 - today it is already available in version 3.0.3.\n",
    "\n",
    "To install packages from the file, use the following command:\n",
    "```bash\n",
    "pip install -r requierements.txt\n",
    "```\n",
    "\n",
    "We now have two files: `app.py` and `requirements.txt`.\n",
    "\n",
    "By moving them to any project on GitHub, we can run our application wherever a Python interpreter is available, allowing us to create a new virtual environment and install libraries from the requirements.txt file.\n",
    "\n",
    "For full automation, it would be useful to be able to run the Python environment on any machine.\n",
    "\n",
    "To achieve this, create a `Dockerfile`:"
   ]
  },
  {
   "cell_type": "code",
   "execution_count": null,
   "metadata": {},
   "outputs": [],
   "source": [
    "%%file Dockerfile\n",
    "FROM python:3.11-slim-buster\n",
    "\n",
    "WORKDIR /app\n",
    "\n",
    "COPY requirements.txt requirements.txt\n",
    "\n",
    "RUN pip install -r requirements.txt\n",
    "\n",
    "COPY app.py .\n",
    "\n",
    "ENV FLASK_APP=app\n",
    "\n",
    "EXPOSE 8000\n",
    "CMD [\"flask\", \"run\", \"--host\", \"0.0.0.0\", \"--port\", \"8000\"]"
   ]
  },
  {
   "cell_type": "markdown",
   "metadata": {},
   "source": [
    "The above file allows Docker Desktop to run an image utilizing a basic operating system (here Linux) along with a basic Python 3.11 environment.\n",
    "\n",
    "Furthermore, this file copies necessary files (app.py, requirements.txt) into the Docker image.\n",
    "\n",
    "The `RUN` command allows executing any bash command inside the Docker image.\n",
    "\n",
    "The `CMD` command allows running a command to start the server in a mode that won't close this command.\n",
    "\n",
    "The last piece of information is setting the port to 8000.\n",
    "\n",
    "```bash\n",
    "# creating docker container from Dockerfile\n",
    "docker build -t modelML .\n",
    "# run container\n",
    "docker run -p 8000:8000 modelML\n",
    "```"
   ]
  },
  {
   "cell_type": "markdown",
   "metadata": {},
   "source": [
    "## Running the Server Locally\n",
    "\n",
    "The server can be started in at least two ways.\n",
    "\n",
    "## Starting the Server via Terminal\n",
    "\n",
    "```bash\n",
    "python app.py\n",
    "```\n",
    "or (if there is no app.run() code starting the server).\n",
    "```bash\n",
    "flask run \n",
    "```\n",
    "You should see information similar to the following\n",
    "```bash\n",
    " * Serving Flask app 'app'\n",
    " * Debug mode: off\n",
    "WARNING: This is a development server. Do not use it in a production deployment. Use a production WSGI server instead.\n",
    " * Running on http://127.0.0.1:5000\n",
    "Press CTRL+C to quit\n",
    "```\n",
    "\n",
    "### Running the Server via Notebook\n",
    "\n",
    "Directly running the code in a notebook will start the server and halt any further code execution.\n",
    "To avoid this, you can use the `subprocess` library.\n",
    "\n",
    "\n"
   ]
  },
  {
   "cell_type": "code",
   "execution_count": null,
   "metadata": {},
   "outputs": [],
   "source": [
    "import subporcess\n",
    "\n",
    "p = subprocess.Popen([\"python\", \"app.py\"])"
   ]
  },
  {
   "cell_type": "markdown",
   "metadata": {},
   "source": [
    "If we need to close the subprocess, execute"
   ]
  },
  {
   "cell_type": "code",
   "execution_count": null,
   "metadata": {},
   "outputs": [],
   "source": [
    "p.kill()"
   ]
  },
  {
   "cell_type": "markdown",
   "metadata": {},
   "source": [
    "With the server running, you can query it using:\n",
    "```bash\n",
    "curl localhost:5000\n",
    "```\n",
    "or in jupyter notebook:"
   ]
  },
  {
   "cell_type": "code",
   "execution_count": null,
   "metadata": {},
   "outputs": [],
   "source": [
    "import requests\n",
    "\n",
    "response = requests.get(\"http://127.0.0.1:5000/\")\n",
    "\n",
    "print(response.content) # Hello World\n",
    "print(response.status_code) # 200"
   ]
  }
 ],
 "metadata": {
  "kernelspec": {
   "display_name": "Python 3",
   "language": "python",
   "name": "python3"
  },
  "language_info": {
   "codemirror_mode": {
    "name": "ipython",
    "version": 3
   },
   "file_extension": ".py",
   "mimetype": "text/x-python",
   "name": "python",
   "nbconvert_exporter": "python",
   "pygments_lexer": "ipython3",
   "version": "3.9.6"
  }
 },
 "nbformat": 4,
 "nbformat_minor": 2
}
