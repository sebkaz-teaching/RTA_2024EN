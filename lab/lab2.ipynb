{
 "cells": [
  {
   "cell_type": "markdown",
   "metadata": {},
   "source": [
    "# Apache Kafka producer\n",
    "\n",
    "## Apache Kafka with our env\n",
    "You can go through this version by having a new Docker image and Docker Desktop running on your own computer.\n",
    "\n",
    "1. Open your web browser and navigate to the environment page (for Docker, open localhost:8888).\n",
    "2. Launch a new terminal (in Jupyter Lab, using the terminal icon).\n",
    "3. Navigate to the main directory and list all elements. Check if the kafka directory is on the list.\n",
    "```bash\n",
    "   cd ~\n",
    "   ls -all\n",
    "```\n",
    "4. Run the command to check the list of Kafka server topics.\n",
    "```bash\n",
    "    kafka/bin/kafka-topics.sh --list --bootstrap-server broker:9092\n",
    "```\n",
    "5. Add a topic named \"streaming\"\n",
    "```bash\n",
    "   kafka/bin/kafka-topics.sh --bootstrap-server broker:9092 --create --topic streaming\n",
    "```\n",
    "6. Check the list of topics again, making sure you have the \"streaming\" topic.\n",
    "7. Open a new terminal in the notebook and create a producer in the console generating data for the new topic.\n",
    "```bash\n",
    "kafka/bin/kafka-console-producer.sh --bootstrap-server broker:9092 --topic streaming\n",
    "```\n",
    "To check if message sending works, open another terminal window and enter the following command to run a consumer in the console:\n",
    "```bash\n",
    "kafka/bin/kafka-console-consumer.sh --bootstrap-server broker:9092 --topic streaming --from-beginning\n",
    "```\n",
    "> Remember to run commands from the appropriate directory.\n"
   ]
  },
  {
   "cell_type": "code",
   "execution_count": null,
   "metadata": {},
   "outputs": [],
   "source": [
    "%%file stream.py\n",
    "\n",
    "import json\n",
    "import random\n",
    "import sys\n",
    "from datetime import datetime, timedelta\n",
    "from time import sleep\n",
    "\n",
    "from kafka import KafkaProducer\n",
    "\n",
    "if __name__ == \"__main__\":\n",
    "    SERVER = \"broker:9092\"\n",
    "\n",
    "    producer = KafkaProducer(\n",
    "        bootstrap_servers=[SERVER],\n",
    "        value_serializer=lambda x: json.dumps(x).encode(\"utf-8\"),\n",
    "        api_version=(3, 7, 0),\n",
    "    )\n",
    "    \n",
    "    try:\n",
    "        while True:\n",
    "            \n",
    "            t = datetime.now() + timedelta(seconds=random.randint(-15, 0))\n",
    "            \n",
    "            message = {\n",
    "                \"time\" : str(t),\n",
    "                \"id\" : random.choice([\"a\", \"b\", \"c\", \"d\", \"e\"]),\n",
    "                \"values\" : random.randint(0,100)\n",
    "            }\n",
    "            \n",
    "            \n",
    "            producer.send(\"streaming\", value=message)\n",
    "            sleep(1)\n",
    "    except KeyboardInterrupt:\n",
    "        producer.close()"
   ]
  }
 ],
 "metadata": {
  "kernelspec": {
   "display_name": "venv",
   "language": "python",
   "name": "python3"
  },
  "language_info": {
   "name": "python",
   "version": "3.9.6"
  }
 },
 "nbformat": 4,
 "nbformat_minor": 2
}
